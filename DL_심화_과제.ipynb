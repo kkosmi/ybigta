{
  "nbformat": 4,
  "nbformat_minor": 0,
  "metadata": {
    "colab": {
      "name": "DL 심화 과제.ipynb",
      "provenance": [],
      "authorship_tag": "ABX9TyPulGeCW3YUCuvswMGh+Lko",
      "include_colab_link": true
    },
    "kernelspec": {
      "name": "python3",
      "display_name": "Python 3"
    }
  },
  "cells": [
    {
      "cell_type": "markdown",
      "metadata": {
        "id": "view-in-github",
        "colab_type": "text"
      },
      "source": [
        "<a href=\"https://colab.research.google.com/github/kkosmi/ybigta/blob/master/DL_%EC%8B%AC%ED%99%94_%EA%B3%BC%EC%A0%9C.ipynb\" target=\"_parent\"><img src=\"https://colab.research.google.com/assets/colab-badge.svg\" alt=\"Open In Colab\"/></a>"
      ]
    },
    {
      "cell_type": "code",
      "metadata": {
        "id": "wxxlLg1PvDck"
      },
      "source": [
        "import numpy as np\r\n",
        "import tensorflow as tf\r\n",
        "import matplotlib.pyplot as plt\r\n",
        "from PIL import Image\r\n",
        "%matplotlib inline"
      ],
      "execution_count": null,
      "outputs": []
    },
    {
      "cell_type": "code",
      "metadata": {
        "colab": {
          "base_uri": "https://localhost:8080/"
        },
        "id": "XCH46uy3u8Z6",
        "outputId": "039f07c6-59cb-4136-ba57-7068cc00ccb6"
      },
      "source": [
        "(x_train, y_train), (x_test, y_test) = tf.keras.datasets.mnist.load_data()"
      ],
      "execution_count": null,
      "outputs": [
        {
          "output_type": "stream",
          "text": [
            "Downloading data from https://storage.googleapis.com/tensorflow/tf-keras-datasets/mnist.npz\n",
            "11493376/11490434 [==============================] - 0s 0us/step\n"
          ],
          "name": "stdout"
        }
      ]
    },
    {
      "cell_type": "code",
      "metadata": {
        "colab": {
          "base_uri": "https://localhost:8080/"
        },
        "id": "Tz64jPMLvkUZ",
        "outputId": "17f955bc-cebc-4140-810e-6d416d816610"
      },
      "source": [
        "x_train.shape, x_test.shape, y_train.shape, y_test.shape"
      ],
      "execution_count": null,
      "outputs": [
        {
          "output_type": "execute_result",
          "data": {
            "text/plain": [
              "((60000, 28, 28), (10000, 28, 28), (60000,), (10000,))"
            ]
          },
          "metadata": {
            "tags": []
          },
          "execution_count": 3
        }
      ]
    },
    {
      "cell_type": "code",
      "metadata": {
        "colab": {
          "base_uri": "https://localhost:8080/"
        },
        "id": "rse41ibAvrDn",
        "outputId": "c1f500be-224d-430d-a53f-ec326d6f6cf8"
      },
      "source": [
        "x_train = np.reshape(x_train, (60000, 28, 28, 1))\r\n",
        "x_test = np.reshape(x_test, (10000, 28, 28, 1))\r\n",
        "x_train.shape, x_test.shape, y_train.shape, y_test.shape"
      ],
      "execution_count": null,
      "outputs": [
        {
          "output_type": "execute_result",
          "data": {
            "text/plain": [
              "((60000, 28, 28, 1), (10000, 28, 28, 1), (60000,), (10000,))"
            ]
          },
          "metadata": {
            "tags": []
          },
          "execution_count": 4
        }
      ]
    },
    {
      "cell_type": "code",
      "metadata": {
        "colab": {
          "base_uri": "https://localhost:8080/"
        },
        "id": "D-JsQmSVv5fj",
        "outputId": "08cc3afe-6b37-4204-9d2f-beb77ddf4352"
      },
      "source": [
        "y_train = tf.keras.utils.to_categorical(y_train, 10)\r\n",
        "y_test = tf.keras.utils.to_categorical(y_test, 10)\r\n",
        "# 멀티 클래스 분류를 할 때는 to_categorical이 편리함\r\n",
        "y_train.shape, y_test.shape"
      ],
      "execution_count": null,
      "outputs": [
        {
          "output_type": "execute_result",
          "data": {
            "text/plain": [
              "((60000, 10), (10000, 10))"
            ]
          },
          "metadata": {
            "tags": []
          },
          "execution_count": 5
        }
      ]
    },
    {
      "cell_type": "code",
      "metadata": {
        "id": "NSO4idhGwazI"
      },
      "source": [
        "i = np.random.randint(1000)\r\n",
        "print(y_train[i])\r\n",
        "plt.imshow(x_train[i], cmap = 'gray')"
      ],
      "execution_count": null,
      "outputs": []
    },
    {
      "cell_type": "code",
      "metadata": {
        "id": "-VOW4iaSxJJd"
      },
      "source": [
        "# data augmentation: 사진마다 찍는 각도가 다르고, 조명이 다르고 등등. 이런 데이터의 수를 늘려주는..?\r\n",
        "# 좀더 general 한 특징을 학습할 수 있도록 도와줌\r\n",
        "\r\n",
        "datagen = tf.keras.preprocessing.image.ImageDataGenerator(\r\n",
        "    rotation_range = 20,\r\n",
        "    width_shift_range = 0.1,\r\n",
        "    height_shift_range = 0.1,\r\n",
        "    validation_split = 0.25  #검증데이터도 알아서 만들어줌\r\n",
        ")\r\n",
        "datagen.fit(x_train)"
      ],
      "execution_count": null,
      "outputs": []
    },
    {
      "cell_type": "code",
      "metadata": {
        "colab": {
          "base_uri": "https://localhost:8080/"
        },
        "id": "SuSqvOKpzzlo",
        "outputId": "4a87e868-358a-46a5-d43b-3eb40677b8d0"
      },
      "source": [
        "model = tf.keras.Sequential([\r\n",
        "    tf.keras.layers.Conv2D(input_shape = (28,28,1), kernel_size = (5,5), filters = 10, activation = 'relu'),\r\n",
        "    tf.keras.layers.MaxPool2D(pool_size = (2,2)),\r\n",
        "    tf.keras.layers.Conv2D(kernel_size = (3,3), filters = 20, activation = 'relu'),\r\n",
        "    tf.keras.layers.MaxPool2D(pool_size = (2,2)),\r\n",
        "    tf.keras.layers.Conv2D(kernel_size = (3,3), filters = 20, activation = 'relu'),\r\n",
        "    tf.keras.layers.MaxPool2D(pool_size = (2,2)),\r\n",
        "    tf.keras.layers.Flatten(),\r\n",
        "    tf.keras.layers.Dense(units = 50, activation='relu'),\r\n",
        "    tf.keras.layers.Flatten(),\r\n",
        "    tf.keras.layers.Dense(units = 10, activation= 'softmax')\r\n",
        "])\r\n",
        "#인풋과 아웃풋의 형태는 지켜야함. \r\n",
        "#convolution: 인풋은 28,28,1, kernel size = 5,5, 필터개수는 열개 즉 채널이 열개로 늘어남.\r\n",
        "#인풋shape은 첫줄에서만 설정하면 됨.\r\n",
        "#마지막엔 확률형태의 아웃풋을 원하니까 소프트맥스\r\n",
        "\r\n",
        "model.compile(optimizer = tf.keras.optimizers.Adam(),\r\n",
        "              loss='categorical_crossentropy',\r\n",
        "              metrics = ['accuracy']\r\n",
        "              )\r\n",
        "\r\n",
        "model.summary()\r\n",
        "# none은 배치 사이즈를 의미..."
      ],
      "execution_count": null,
      "outputs": [
        {
          "output_type": "stream",
          "text": [
            "Model: \"sequential\"\n",
            "_________________________________________________________________\n",
            "Layer (type)                 Output Shape              Param #   \n",
            "=================================================================\n",
            "conv2d (Conv2D)              (None, 24, 24, 10)        260       \n",
            "_________________________________________________________________\n",
            "max_pooling2d (MaxPooling2D) (None, 12, 12, 10)        0         \n",
            "_________________________________________________________________\n",
            "conv2d_1 (Conv2D)            (None, 10, 10, 20)        1820      \n",
            "_________________________________________________________________\n",
            "max_pooling2d_1 (MaxPooling2 (None, 5, 5, 20)          0         \n",
            "_________________________________________________________________\n",
            "conv2d_2 (Conv2D)            (None, 3, 3, 20)          3620      \n",
            "_________________________________________________________________\n",
            "max_pooling2d_2 (MaxPooling2 (None, 1, 1, 20)          0         \n",
            "_________________________________________________________________\n",
            "flatten (Flatten)            (None, 20)                0         \n",
            "_________________________________________________________________\n",
            "dense (Dense)                (None, 50)                1050      \n",
            "_________________________________________________________________\n",
            "flatten_1 (Flatten)          (None, 50)                0         \n",
            "_________________________________________________________________\n",
            "dense_1 (Dense)              (None, 10)                510       \n",
            "=================================================================\n",
            "Total params: 7,260\n",
            "Trainable params: 7,260\n",
            "Non-trainable params: 0\n",
            "_________________________________________________________________\n"
          ],
          "name": "stdout"
        }
      ]
    },
    {
      "cell_type": "code",
      "metadata": {
        "colab": {
          "base_uri": "https://localhost:8080/"
        },
        "id": "E97RyVageoJj",
        "outputId": "9294d7ae-6f59-4f7d-f525-95121d0ff22e"
      },
      "source": [
        "# training 과정\r\n",
        "# 데이터 생성기를 사용했기 때메 fit이 아니라 fit_generator를 사용함.\r\n",
        "# flow 라는 메소드 사용: train의 레이블까지 넣어줘야 augmentation된 데이터에 대한 레이블링까지도 \r\n",
        "# 얘가 해줌. validationsplit = 0.25라고 설정했기 때문에\r\n",
        "train_generator = datagen.flow(x_train, y_train, batch_size = 64, subset = 'training')\r\n",
        "val_generator = datagen.flow(x_train,y_train,batch_size=64,subset='validation')\r\n",
        "# 이 두개를 fit generator의 매개변수로 넘겨줌!\r\n",
        "history = model.fit_generator(train_generator,  #input\r\n",
        "                              epochs=10,         #5번 훈련\r\n",
        "                              verbose=1,        #결과를 간단히 표현해주세요라는 의미\r\n",
        "                              validation_data=val_generator # 밸리데이션 데이터 지정\r\n",
        "                              )"
      ],
      "execution_count": null,
      "outputs": [
        {
          "output_type": "stream",
          "text": [
            "Epoch 1/10\n",
            "  3/704 [..............................] - ETA: 29s - loss: 0.2621 - accuracy: 0.9062"
          ],
          "name": "stdout"
        },
        {
          "output_type": "stream",
          "text": [
            "/usr/local/lib/python3.6/dist-packages/tensorflow/python/keras/engine/training.py:1844: UserWarning: `Model.fit_generator` is deprecated and will be removed in a future version. Please use `Model.fit`, which supports generators.\n",
            "  warnings.warn('`Model.fit_generator` is deprecated and '\n"
          ],
          "name": "stderr"
        },
        {
          "output_type": "stream",
          "text": [
            "704/704 [==============================] - 34s 49ms/step - loss: 0.1888 - accuracy: 0.9429 - val_loss: 0.1642 - val_accuracy: 0.9503\n",
            "Epoch 2/10\n",
            "704/704 [==============================] - 35s 49ms/step - loss: 0.1671 - accuracy: 0.9484 - val_loss: 0.1584 - val_accuracy: 0.9525\n",
            "Epoch 3/10\n",
            "704/704 [==============================] - 35s 50ms/step - loss: 0.1549 - accuracy: 0.9526 - val_loss: 0.1748 - val_accuracy: 0.9443\n",
            "Epoch 4/10\n",
            "704/704 [==============================] - 35s 50ms/step - loss: 0.1453 - accuracy: 0.9547 - val_loss: 0.1529 - val_accuracy: 0.9543\n",
            "Epoch 5/10\n",
            "704/704 [==============================] - 35s 50ms/step - loss: 0.1360 - accuracy: 0.9581 - val_loss: 0.1322 - val_accuracy: 0.9601\n",
            "Epoch 6/10\n",
            "704/704 [==============================] - 35s 50ms/step - loss: 0.1259 - accuracy: 0.9607 - val_loss: 0.1391 - val_accuracy: 0.9586\n",
            "Epoch 7/10\n",
            "704/704 [==============================] - 35s 50ms/step - loss: 0.1235 - accuracy: 0.9621 - val_loss: 0.1270 - val_accuracy: 0.9623\n",
            "Epoch 8/10\n",
            "704/704 [==============================] - 36s 51ms/step - loss: 0.1111 - accuracy: 0.9657 - val_loss: 0.1382 - val_accuracy: 0.9583\n",
            "Epoch 9/10\n",
            "704/704 [==============================] - 35s 50ms/step - loss: 0.1160 - accuracy: 0.9637 - val_loss: 0.1187 - val_accuracy: 0.9651\n",
            "Epoch 10/10\n",
            "704/704 [==============================] - 35s 50ms/step - loss: 0.1077 - accuracy: 0.9664 - val_loss: 0.1107 - val_accuracy: 0.9662\n"
          ],
          "name": "stdout"
        }
      ]
    },
    {
      "cell_type": "code",
      "metadata": {
        "colab": {
          "base_uri": "https://localhost:8080/"
        },
        "id": "l4HXpDQcgtwy",
        "outputId": "4a4c89b2-53c8-4122-f1d2-952307c35d12"
      },
      "source": [
        "loss, accuracy = model.evaluate(x_test, y_test)\r\n",
        "print(f'test loss: {loss} / test accuracy : {accuracy}')"
      ],
      "execution_count": null,
      "outputs": [
        {
          "output_type": "stream",
          "text": [
            "313/313 [==============================] - 2s 7ms/step - loss: 0.0578 - accuracy: 0.9812\n",
            "test loss: 0.057759106159210205 / test accuracy : 0.9811999797821045\n"
          ],
          "name": "stdout"
        }
      ]
    },
    {
      "cell_type": "code",
      "metadata": {
        "colab": {
          "base_uri": "https://localhost:8080/"
        },
        "id": "U4Oecg_djGC4",
        "outputId": "4852ca22-81c9-4511-fed2-58090507d700"
      },
      "source": [
        "i = np.random.randint(1000)\r\n",
        "y_pred = model(np.array([x_test[i]]))\r\n",
        "print(f'test value = {np.argmax(y_test[i])} / pred value = {np.argmax(y_pred)}')"
      ],
      "execution_count": null,
      "outputs": [
        {
          "output_type": "stream",
          "text": [
            "test value = 7 / pred value = 7\n"
          ],
          "name": "stdout"
        }
      ]
    },
    {
      "cell_type": "code",
      "metadata": {
        "id": "pnfuqM7ajaQv"
      },
      "source": [
        ""
      ],
      "execution_count": null,
      "outputs": []
    }
  ]
}